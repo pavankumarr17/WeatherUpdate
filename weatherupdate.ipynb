{
  "nbformat": 4,
  "nbformat_minor": 0,
  "metadata": {
    "colab": {
      "name": "weatherupdate.ipynb",
      "provenance": [],
      "authorship_tag": "ABX9TyM82bfIinr45wXLtG0B4UJC",
      "include_colab_link": true
    },
    "kernelspec": {
      "name": "python3",
      "display_name": "Python 3"
    },
    "language_info": {
      "name": "python"
    }
  },
  "cells": [
    {
      "cell_type": "markdown",
      "metadata": {
        "id": "view-in-github",
        "colab_type": "text"
      },
      "source": [
        "<a href=\"https://colab.research.google.com/github/pavankumarr17/WeatherUpdate/blob/main/weatherupdate.ipynb\" target=\"_parent\"><img src=\"https://colab.research.google.com/assets/colab-badge.svg\" alt=\"Open In Colab\"/></a>"
      ]
    },
    {
      "cell_type": "code",
      "metadata": {
        "colab": {
          "base_uri": "https://localhost:8080/"
        },
        "id": "L5v77Dxnu2gb",
        "outputId": "018f7e46-239c-43ba-d66f-ddfb35f321b1"
      },
      "source": [
        "pip install requests\n"
      ],
      "execution_count": 13,
      "outputs": [
        {
          "output_type": "stream",
          "text": [
            "Requirement already satisfied: requests in /usr/local/lib/python3.7/dist-packages (2.23.0)\n",
            "Requirement already satisfied: certifi>=2017.4.17 in /usr/local/lib/python3.7/dist-packages (from requests) (2020.12.5)\n",
            "Requirement already satisfied: idna<3,>=2.5 in /usr/local/lib/python3.7/dist-packages (from requests) (2.10)\n",
            "Requirement already satisfied: chardet<4,>=3.0.2 in /usr/local/lib/python3.7/dist-packages (from requests) (3.0.4)\n",
            "Requirement already satisfied: urllib3!=1.25.0,!=1.25.1,<1.26,>=1.21.1 in /usr/local/lib/python3.7/dist-packages (from requests) (1.24.3)\n"
          ],
          "name": "stdout"
        }
      ]
    },
    {
      "cell_type": "code",
      "metadata": {
        "id": "bPrDoZPHvPN6"
      },
      "source": [
        "import requests\n",
        "import os\n",
        "from datetime import datetime"
      ],
      "execution_count": 14,
      "outputs": []
    },
    {
      "cell_type": "code",
      "metadata": {
        "id": "2Ryq-mN5vd65"
      },
      "source": [
        "user_api = \"api key\"\n",
        "#location = input(\"Enter the city name: \")"
      ],
      "execution_count": 15,
      "outputs": []
    },
    {
      "cell_type": "code",
      "metadata": {
        "id": "DutZlujKwjEB"
      },
      "source": [
        "the_api_link = \"https://api.openweathermap.org/data/2.5/weather?q=\"+\"hyderabad\"+\"&appid=\"+user_api\n",
        "req_api_link = requests.get(the_api_link)\n",
        "complete_api_data = req_api_link.json()"
      ],
      "execution_count": 16,
      "outputs": []
    },
    {
      "cell_type": "code",
      "metadata": {
        "colab": {
          "base_uri": "https://localhost:8080/"
        },
        "id": "Eza4SoOCwvc5",
        "outputId": "1af5d9d7-fe59-4339-906d-ac0a742eb85a"
      },
      "source": [
        "print(complete_api_data)"
      ],
      "execution_count": 17,
      "outputs": [
        {
          "output_type": "stream",
          "text": [
            "{'coord': {'lon': 78.4744, 'lat': 17.3753}, 'weather': [{'id': 802, 'main': 'Clouds', 'description': 'scattered clouds', 'icon': '03n'}], 'base': 'stations', 'main': {'temp': 303.09, 'feels_like': 305.48, 'temp_min': 302.04, 'temp_max': 304.15, 'pressure': 1014, 'humidity': 58}, 'visibility': 6000, 'wind': {'speed': 2.06, 'deg': 260}, 'clouds': {'all': 40}, 'dt': 1620406623, 'sys': {'type': 1, 'id': 9214, 'country': 'IN', 'sunrise': 1620346637, 'sunset': 1620392880}, 'timezone': 19800, 'id': 1269843, 'name': 'Hyderabad', 'cod': 200}\n"
          ],
          "name": "stdout"
        }
      ]
    },
    {
      "cell_type": "code",
      "metadata": {
        "id": "gVQmZzWbxKgy"
      },
      "source": [
        "temp_city = ((complete_api_data['main']['temp']) - 273.15)\n",
        "weather_desc = complete_api_data['weather'][0]['description']\n",
        "hmdt = complete_api_data['main']['humidity']\n",
        "wind_spd = complete_api_data['wind']['speed']\n",
        "date_time = datetime.now().strftime(\"%d %b %Y | %I:%M:%S %p\")"
      ],
      "execution_count": 18,
      "outputs": []
    },
    {
      "cell_type": "code",
      "metadata": {
        "colab": {
          "base_uri": "https://localhost:8080/"
        },
        "id": "-_SIGxckxU5h",
        "outputId": "1c4e0fe6-9b1a-46bb-a210-9292c593be93"
      },
      "source": [
        "print (\"-------------------------------------------------------------\")\n",
        "print (\"Weather Stats for - {}  || {}\".format(location.upper(), date_time))\n",
        "print (\"----------------------The Data is here-------------------------\")\n",
        "\n",
        "print (\"Current temperature is: {:.2f} deg C\".format(temp_city))\n",
        "print (\"Current weather desc  :\",weather_desc)\n",
        "print (\"Current Humidity      :\",hmdt, '%')\n",
        "print (\"Current wind speed    :\",wind_spd ,'kmph')"
      ],
      "execution_count": 19,
      "outputs": [
        {
          "output_type": "stream",
          "text": [
            "-------------------------------------------------------------\n",
            "Weather Stats for - HYDERABAD  || 07 May 2021 | 05:01:08 PM\n",
            "----------------------The Data is here-------------------------\n",
            "Current temperature is: 29.94 deg C\n",
            "Current weather desc  : scattered clouds\n",
            "Current Humidity      : 58 %\n",
            "Current wind speed    : 2.06 kmph\n"
          ],
          "name": "stdout"
        }
      ]
    }
  ]
}
